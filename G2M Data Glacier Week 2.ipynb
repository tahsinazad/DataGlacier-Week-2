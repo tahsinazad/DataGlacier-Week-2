{
 "cells": [
  {
   "cell_type": "code",
   "execution_count": 147,
   "id": "f33e7d93",
   "metadata": {},
   "outputs": [],
   "source": [
    "import pandas as pd\n",
    "import numpy as np\n",
    "import matplotlib.pyplot as plt"
   ]
  },
  {
   "cell_type": "markdown",
   "id": "85329ebf",
   "metadata": {},
   "source": [
    "# Observing Data"
   ]
  },
  {
   "cell_type": "code",
   "execution_count": 148,
   "id": "9ea1e322",
   "metadata": {},
   "outputs": [],
   "source": [
    "cabdata = pd.read_csv(r'C:\\Users\\Tahsin\\DataGlacier-Week-2\\Cab_Data.csv')\n",
    "city = pd.read_csv(r'C:\\Users\\Tahsin\\DataGlacier-Week-2\\City.csv')\n",
    "customer = pd.read_csv(r'C:\\Users\\Tahsin\\DataGlacier-Week-2\\Customer_ID.csv')\n",
    "transaction = pd.read_csv(r'C:\\Users\\Tahsin\\DataGlacier-Week-2\\Transaction_ID.csv')"
   ]
  },
  {
   "cell_type": "code",
   "execution_count": 149,
   "id": "bd8c91ee",
   "metadata": {},
   "outputs": [
    {
     "data": {
      "text/html": [
       "<div>\n",
       "<style scoped>\n",
       "    .dataframe tbody tr th:only-of-type {\n",
       "        vertical-align: middle;\n",
       "    }\n",
       "\n",
       "    .dataframe tbody tr th {\n",
       "        vertical-align: top;\n",
       "    }\n",
       "\n",
       "    .dataframe thead th {\n",
       "        text-align: right;\n",
       "    }\n",
       "</style>\n",
       "<table border=\"1\" class=\"dataframe\">\n",
       "  <thead>\n",
       "    <tr style=\"text-align: right;\">\n",
       "      <th></th>\n",
       "      <th>Transaction ID</th>\n",
       "      <th>Date of Travel</th>\n",
       "      <th>Company</th>\n",
       "      <th>City</th>\n",
       "      <th>KM Travelled</th>\n",
       "      <th>Price Charged</th>\n",
       "      <th>Cost of Trip</th>\n",
       "    </tr>\n",
       "  </thead>\n",
       "  <tbody>\n",
       "    <tr>\n",
       "      <th>0</th>\n",
       "      <td>10000011</td>\n",
       "      <td>42377</td>\n",
       "      <td>Pink Cab</td>\n",
       "      <td>ATLANTA GA</td>\n",
       "      <td>30.45</td>\n",
       "      <td>370.95</td>\n",
       "      <td>313.635</td>\n",
       "    </tr>\n",
       "    <tr>\n",
       "      <th>1</th>\n",
       "      <td>10000012</td>\n",
       "      <td>42375</td>\n",
       "      <td>Pink Cab</td>\n",
       "      <td>ATLANTA GA</td>\n",
       "      <td>28.62</td>\n",
       "      <td>358.52</td>\n",
       "      <td>334.854</td>\n",
       "    </tr>\n",
       "    <tr>\n",
       "      <th>2</th>\n",
       "      <td>10000013</td>\n",
       "      <td>42371</td>\n",
       "      <td>Pink Cab</td>\n",
       "      <td>ATLANTA GA</td>\n",
       "      <td>9.04</td>\n",
       "      <td>125.20</td>\n",
       "      <td>97.632</td>\n",
       "    </tr>\n",
       "    <tr>\n",
       "      <th>3</th>\n",
       "      <td>10000014</td>\n",
       "      <td>42376</td>\n",
       "      <td>Pink Cab</td>\n",
       "      <td>ATLANTA GA</td>\n",
       "      <td>33.17</td>\n",
       "      <td>377.40</td>\n",
       "      <td>351.602</td>\n",
       "    </tr>\n",
       "    <tr>\n",
       "      <th>4</th>\n",
       "      <td>10000015</td>\n",
       "      <td>42372</td>\n",
       "      <td>Pink Cab</td>\n",
       "      <td>ATLANTA GA</td>\n",
       "      <td>8.73</td>\n",
       "      <td>114.62</td>\n",
       "      <td>97.776</td>\n",
       "    </tr>\n",
       "  </tbody>\n",
       "</table>\n",
       "</div>"
      ],
      "text/plain": [
       "   Transaction ID  Date of Travel   Company        City  KM Travelled  \\\n",
       "0        10000011           42377  Pink Cab  ATLANTA GA         30.45   \n",
       "1        10000012           42375  Pink Cab  ATLANTA GA         28.62   \n",
       "2        10000013           42371  Pink Cab  ATLANTA GA          9.04   \n",
       "3        10000014           42376  Pink Cab  ATLANTA GA         33.17   \n",
       "4        10000015           42372  Pink Cab  ATLANTA GA          8.73   \n",
       "\n",
       "   Price Charged  Cost of Trip  \n",
       "0         370.95       313.635  \n",
       "1         358.52       334.854  \n",
       "2         125.20        97.632  \n",
       "3         377.40       351.602  \n",
       "4         114.62        97.776  "
      ]
     },
     "execution_count": 149,
     "metadata": {},
     "output_type": "execute_result"
    }
   ],
   "source": [
    "cabdata.head(5)"
   ]
  },
  {
   "cell_type": "code",
   "execution_count": 150,
   "id": "b89c87f8",
   "metadata": {},
   "outputs": [
    {
     "data": {
      "text/html": [
       "<div>\n",
       "<style scoped>\n",
       "    .dataframe tbody tr th:only-of-type {\n",
       "        vertical-align: middle;\n",
       "    }\n",
       "\n",
       "    .dataframe tbody tr th {\n",
       "        vertical-align: top;\n",
       "    }\n",
       "\n",
       "    .dataframe thead th {\n",
       "        text-align: right;\n",
       "    }\n",
       "</style>\n",
       "<table border=\"1\" class=\"dataframe\">\n",
       "  <thead>\n",
       "    <tr style=\"text-align: right;\">\n",
       "      <th></th>\n",
       "      <th>City</th>\n",
       "      <th>Population</th>\n",
       "      <th>Users</th>\n",
       "    </tr>\n",
       "  </thead>\n",
       "  <tbody>\n",
       "    <tr>\n",
       "      <th>0</th>\n",
       "      <td>NEW YORK NY</td>\n",
       "      <td>8,405,837</td>\n",
       "      <td>302,149</td>\n",
       "    </tr>\n",
       "    <tr>\n",
       "      <th>1</th>\n",
       "      <td>CHICAGO IL</td>\n",
       "      <td>1,955,130</td>\n",
       "      <td>164,468</td>\n",
       "    </tr>\n",
       "    <tr>\n",
       "      <th>2</th>\n",
       "      <td>LOS ANGELES CA</td>\n",
       "      <td>1,595,037</td>\n",
       "      <td>144,132</td>\n",
       "    </tr>\n",
       "    <tr>\n",
       "      <th>3</th>\n",
       "      <td>MIAMI FL</td>\n",
       "      <td>1,339,155</td>\n",
       "      <td>17,675</td>\n",
       "    </tr>\n",
       "    <tr>\n",
       "      <th>4</th>\n",
       "      <td>SILICON VALLEY</td>\n",
       "      <td>1,177,609</td>\n",
       "      <td>27,247</td>\n",
       "    </tr>\n",
       "  </tbody>\n",
       "</table>\n",
       "</div>"
      ],
      "text/plain": [
       "             City   Population      Users\n",
       "0     NEW YORK NY   8,405,837    302,149 \n",
       "1      CHICAGO IL   1,955,130    164,468 \n",
       "2  LOS ANGELES CA   1,595,037    144,132 \n",
       "3        MIAMI FL   1,339,155     17,675 \n",
       "4  SILICON VALLEY   1,177,609     27,247 "
      ]
     },
     "execution_count": 150,
     "metadata": {},
     "output_type": "execute_result"
    }
   ],
   "source": [
    "city.head(5)"
   ]
  },
  {
   "cell_type": "code",
   "execution_count": 151,
   "id": "c53a5c2d",
   "metadata": {},
   "outputs": [
    {
     "data": {
      "text/html": [
       "<div>\n",
       "<style scoped>\n",
       "    .dataframe tbody tr th:only-of-type {\n",
       "        vertical-align: middle;\n",
       "    }\n",
       "\n",
       "    .dataframe tbody tr th {\n",
       "        vertical-align: top;\n",
       "    }\n",
       "\n",
       "    .dataframe thead th {\n",
       "        text-align: right;\n",
       "    }\n",
       "</style>\n",
       "<table border=\"1\" class=\"dataframe\">\n",
       "  <thead>\n",
       "    <tr style=\"text-align: right;\">\n",
       "      <th></th>\n",
       "      <th>Customer ID</th>\n",
       "      <th>Gender</th>\n",
       "      <th>Age</th>\n",
       "      <th>Income (USD/Month)</th>\n",
       "    </tr>\n",
       "  </thead>\n",
       "  <tbody>\n",
       "    <tr>\n",
       "      <th>0</th>\n",
       "      <td>29290</td>\n",
       "      <td>Male</td>\n",
       "      <td>28</td>\n",
       "      <td>10813</td>\n",
       "    </tr>\n",
       "    <tr>\n",
       "      <th>1</th>\n",
       "      <td>27703</td>\n",
       "      <td>Male</td>\n",
       "      <td>27</td>\n",
       "      <td>9237</td>\n",
       "    </tr>\n",
       "    <tr>\n",
       "      <th>2</th>\n",
       "      <td>28712</td>\n",
       "      <td>Male</td>\n",
       "      <td>53</td>\n",
       "      <td>11242</td>\n",
       "    </tr>\n",
       "    <tr>\n",
       "      <th>3</th>\n",
       "      <td>28020</td>\n",
       "      <td>Male</td>\n",
       "      <td>23</td>\n",
       "      <td>23327</td>\n",
       "    </tr>\n",
       "    <tr>\n",
       "      <th>4</th>\n",
       "      <td>27182</td>\n",
       "      <td>Male</td>\n",
       "      <td>33</td>\n",
       "      <td>8536</td>\n",
       "    </tr>\n",
       "  </tbody>\n",
       "</table>\n",
       "</div>"
      ],
      "text/plain": [
       "   Customer ID Gender  Age  Income (USD/Month)\n",
       "0        29290   Male   28               10813\n",
       "1        27703   Male   27                9237\n",
       "2        28712   Male   53               11242\n",
       "3        28020   Male   23               23327\n",
       "4        27182   Male   33                8536"
      ]
     },
     "execution_count": 151,
     "metadata": {},
     "output_type": "execute_result"
    }
   ],
   "source": [
    "customer.head(5)"
   ]
  },
  {
   "cell_type": "code",
   "execution_count": 152,
   "id": "6bf5be57",
   "metadata": {},
   "outputs": [
    {
     "data": {
      "text/html": [
       "<div>\n",
       "<style scoped>\n",
       "    .dataframe tbody tr th:only-of-type {\n",
       "        vertical-align: middle;\n",
       "    }\n",
       "\n",
       "    .dataframe tbody tr th {\n",
       "        vertical-align: top;\n",
       "    }\n",
       "\n",
       "    .dataframe thead th {\n",
       "        text-align: right;\n",
       "    }\n",
       "</style>\n",
       "<table border=\"1\" class=\"dataframe\">\n",
       "  <thead>\n",
       "    <tr style=\"text-align: right;\">\n",
       "      <th></th>\n",
       "      <th>Transaction ID</th>\n",
       "      <th>Customer ID</th>\n",
       "      <th>Payment_Mode</th>\n",
       "    </tr>\n",
       "  </thead>\n",
       "  <tbody>\n",
       "    <tr>\n",
       "      <th>0</th>\n",
       "      <td>10000011</td>\n",
       "      <td>29290</td>\n",
       "      <td>Card</td>\n",
       "    </tr>\n",
       "    <tr>\n",
       "      <th>1</th>\n",
       "      <td>10000012</td>\n",
       "      <td>27703</td>\n",
       "      <td>Card</td>\n",
       "    </tr>\n",
       "    <tr>\n",
       "      <th>2</th>\n",
       "      <td>10000013</td>\n",
       "      <td>28712</td>\n",
       "      <td>Cash</td>\n",
       "    </tr>\n",
       "    <tr>\n",
       "      <th>3</th>\n",
       "      <td>10000014</td>\n",
       "      <td>28020</td>\n",
       "      <td>Cash</td>\n",
       "    </tr>\n",
       "    <tr>\n",
       "      <th>4</th>\n",
       "      <td>10000015</td>\n",
       "      <td>27182</td>\n",
       "      <td>Card</td>\n",
       "    </tr>\n",
       "  </tbody>\n",
       "</table>\n",
       "</div>"
      ],
      "text/plain": [
       "   Transaction ID  Customer ID Payment_Mode\n",
       "0        10000011        29290         Card\n",
       "1        10000012        27703         Card\n",
       "2        10000013        28712         Cash\n",
       "3        10000014        28020         Cash\n",
       "4        10000015        27182         Card"
      ]
     },
     "execution_count": 152,
     "metadata": {},
     "output_type": "execute_result"
    }
   ],
   "source": [
    "transaction.head(5)"
   ]
  },
  {
   "cell_type": "markdown",
   "id": "f5533363",
   "metadata": {},
   "source": [
    "# Potential Hypothesis\n",
    "\n",
    "#### -Which company was chosen by wealthy customers in large cities?\n",
    "\n",
    "#### -Do males spend more in one company than females?\n",
    "\n",
    "#### -Is there a preference for one company based on the transaction method?\n",
    "\n",
    "#### -Do wealthier customers pay by card\n",
    "\n",
    "#### -Which company generates the best money based on city proportion"
   ]
  },
  {
   "cell_type": "markdown",
   "id": "60319a45",
   "metadata": {},
   "source": [
    "# Analyzing Data"
   ]
  },
  {
   "cell_type": "code",
   "execution_count": 153,
   "id": "c64e92d4",
   "metadata": {},
   "outputs": [
    {
     "data": {
      "text/plain": [
       "359392"
      ]
     },
     "execution_count": 153,
     "metadata": {},
     "output_type": "execute_result"
    }
   ],
   "source": [
    "len(cabdata)"
   ]
  },
  {
   "cell_type": "code",
   "execution_count": 154,
   "id": "6e653bef",
   "metadata": {},
   "outputs": [
    {
     "data": {
      "text/plain": [
       "49171"
      ]
     },
     "execution_count": 154,
     "metadata": {},
     "output_type": "execute_result"
    }
   ],
   "source": [
    "len(customer)"
   ]
  },
  {
   "cell_type": "code",
   "execution_count": 155,
   "id": "fc4c21ba",
   "metadata": {},
   "outputs": [
    {
     "data": {
      "text/plain": [
       "20"
      ]
     },
     "execution_count": 155,
     "metadata": {},
     "output_type": "execute_result"
    }
   ],
   "source": [
    "len(city)"
   ]
  },
  {
   "cell_type": "code",
   "execution_count": 156,
   "id": "bb8299ba",
   "metadata": {},
   "outputs": [
    {
     "data": {
      "text/plain": [
       "440098"
      ]
     },
     "execution_count": 156,
     "metadata": {},
     "output_type": "execute_result"
    }
   ],
   "source": [
    "len(transaction)"
   ]
  },
  {
   "cell_type": "code",
   "execution_count": 157,
   "id": "32d488d6",
   "metadata": {},
   "outputs": [
    {
     "data": {
      "text/html": [
       "<div>\n",
       "<style scoped>\n",
       "    .dataframe tbody tr th:only-of-type {\n",
       "        vertical-align: middle;\n",
       "    }\n",
       "\n",
       "    .dataframe tbody tr th {\n",
       "        vertical-align: top;\n",
       "    }\n",
       "\n",
       "    .dataframe thead th {\n",
       "        text-align: right;\n",
       "    }\n",
       "</style>\n",
       "<table border=\"1\" class=\"dataframe\">\n",
       "  <thead>\n",
       "    <tr style=\"text-align: right;\">\n",
       "      <th></th>\n",
       "      <th>Transaction ID</th>\n",
       "      <th>Date of Travel</th>\n",
       "      <th>Company</th>\n",
       "      <th>City</th>\n",
       "      <th>KM Travelled</th>\n",
       "      <th>Price Charged</th>\n",
       "      <th>Cost of Trip</th>\n",
       "      <th>Customer ID</th>\n",
       "      <th>Payment_Mode</th>\n",
       "    </tr>\n",
       "  </thead>\n",
       "  <tbody>\n",
       "    <tr>\n",
       "      <th>0</th>\n",
       "      <td>10000011</td>\n",
       "      <td>42377</td>\n",
       "      <td>Pink Cab</td>\n",
       "      <td>ATLANTA GA</td>\n",
       "      <td>30.45</td>\n",
       "      <td>370.95</td>\n",
       "      <td>313.6350</td>\n",
       "      <td>29290</td>\n",
       "      <td>Card</td>\n",
       "    </tr>\n",
       "    <tr>\n",
       "      <th>1</th>\n",
       "      <td>10000012</td>\n",
       "      <td>42375</td>\n",
       "      <td>Pink Cab</td>\n",
       "      <td>ATLANTA GA</td>\n",
       "      <td>28.62</td>\n",
       "      <td>358.52</td>\n",
       "      <td>334.8540</td>\n",
       "      <td>27703</td>\n",
       "      <td>Card</td>\n",
       "    </tr>\n",
       "    <tr>\n",
       "      <th>2</th>\n",
       "      <td>10000013</td>\n",
       "      <td>42371</td>\n",
       "      <td>Pink Cab</td>\n",
       "      <td>ATLANTA GA</td>\n",
       "      <td>9.04</td>\n",
       "      <td>125.20</td>\n",
       "      <td>97.6320</td>\n",
       "      <td>28712</td>\n",
       "      <td>Cash</td>\n",
       "    </tr>\n",
       "    <tr>\n",
       "      <th>3</th>\n",
       "      <td>10000014</td>\n",
       "      <td>42376</td>\n",
       "      <td>Pink Cab</td>\n",
       "      <td>ATLANTA GA</td>\n",
       "      <td>33.17</td>\n",
       "      <td>377.40</td>\n",
       "      <td>351.6020</td>\n",
       "      <td>28020</td>\n",
       "      <td>Cash</td>\n",
       "    </tr>\n",
       "    <tr>\n",
       "      <th>4</th>\n",
       "      <td>10000015</td>\n",
       "      <td>42372</td>\n",
       "      <td>Pink Cab</td>\n",
       "      <td>ATLANTA GA</td>\n",
       "      <td>8.73</td>\n",
       "      <td>114.62</td>\n",
       "      <td>97.7760</td>\n",
       "      <td>27182</td>\n",
       "      <td>Card</td>\n",
       "    </tr>\n",
       "    <tr>\n",
       "      <th>...</th>\n",
       "      <td>...</td>\n",
       "      <td>...</td>\n",
       "      <td>...</td>\n",
       "      <td>...</td>\n",
       "      <td>...</td>\n",
       "      <td>...</td>\n",
       "      <td>...</td>\n",
       "      <td>...</td>\n",
       "      <td>...</td>\n",
       "    </tr>\n",
       "    <tr>\n",
       "      <th>359387</th>\n",
       "      <td>10440101</td>\n",
       "      <td>43108</td>\n",
       "      <td>Yellow Cab</td>\n",
       "      <td>WASHINGTON DC</td>\n",
       "      <td>4.80</td>\n",
       "      <td>69.24</td>\n",
       "      <td>63.3600</td>\n",
       "      <td>52392</td>\n",
       "      <td>Cash</td>\n",
       "    </tr>\n",
       "    <tr>\n",
       "      <th>359388</th>\n",
       "      <td>10440104</td>\n",
       "      <td>43104</td>\n",
       "      <td>Yellow Cab</td>\n",
       "      <td>WASHINGTON DC</td>\n",
       "      <td>8.40</td>\n",
       "      <td>113.75</td>\n",
       "      <td>106.8480</td>\n",
       "      <td>53286</td>\n",
       "      <td>Cash</td>\n",
       "    </tr>\n",
       "    <tr>\n",
       "      <th>359389</th>\n",
       "      <td>10440105</td>\n",
       "      <td>43105</td>\n",
       "      <td>Yellow Cab</td>\n",
       "      <td>WASHINGTON DC</td>\n",
       "      <td>27.75</td>\n",
       "      <td>437.07</td>\n",
       "      <td>349.6500</td>\n",
       "      <td>52265</td>\n",
       "      <td>Cash</td>\n",
       "    </tr>\n",
       "    <tr>\n",
       "      <th>359390</th>\n",
       "      <td>10440106</td>\n",
       "      <td>43105</td>\n",
       "      <td>Yellow Cab</td>\n",
       "      <td>WASHINGTON DC</td>\n",
       "      <td>8.80</td>\n",
       "      <td>146.19</td>\n",
       "      <td>114.0480</td>\n",
       "      <td>52175</td>\n",
       "      <td>Card</td>\n",
       "    </tr>\n",
       "    <tr>\n",
       "      <th>359391</th>\n",
       "      <td>10440107</td>\n",
       "      <td>43102</td>\n",
       "      <td>Yellow Cab</td>\n",
       "      <td>WASHINGTON DC</td>\n",
       "      <td>12.76</td>\n",
       "      <td>191.58</td>\n",
       "      <td>177.6192</td>\n",
       "      <td>52917</td>\n",
       "      <td>Card</td>\n",
       "    </tr>\n",
       "  </tbody>\n",
       "</table>\n",
       "<p>359392 rows × 9 columns</p>\n",
       "</div>"
      ],
      "text/plain": [
       "        Transaction ID  Date of Travel     Company           City  \\\n",
       "0             10000011           42377    Pink Cab     ATLANTA GA   \n",
       "1             10000012           42375    Pink Cab     ATLANTA GA   \n",
       "2             10000013           42371    Pink Cab     ATLANTA GA   \n",
       "3             10000014           42376    Pink Cab     ATLANTA GA   \n",
       "4             10000015           42372    Pink Cab     ATLANTA GA   \n",
       "...                ...             ...         ...            ...   \n",
       "359387        10440101           43108  Yellow Cab  WASHINGTON DC   \n",
       "359388        10440104           43104  Yellow Cab  WASHINGTON DC   \n",
       "359389        10440105           43105  Yellow Cab  WASHINGTON DC   \n",
       "359390        10440106           43105  Yellow Cab  WASHINGTON DC   \n",
       "359391        10440107           43102  Yellow Cab  WASHINGTON DC   \n",
       "\n",
       "        KM Travelled  Price Charged  Cost of Trip  Customer ID Payment_Mode  \n",
       "0              30.45         370.95      313.6350        29290         Card  \n",
       "1              28.62         358.52      334.8540        27703         Card  \n",
       "2               9.04         125.20       97.6320        28712         Cash  \n",
       "3              33.17         377.40      351.6020        28020         Cash  \n",
       "4               8.73         114.62       97.7760        27182         Card  \n",
       "...              ...            ...           ...          ...          ...  \n",
       "359387          4.80          69.24       63.3600        52392         Cash  \n",
       "359388          8.40         113.75      106.8480        53286         Cash  \n",
       "359389         27.75         437.07      349.6500        52265         Cash  \n",
       "359390          8.80         146.19      114.0480        52175         Card  \n",
       "359391         12.76         191.58      177.6192        52917         Card  \n",
       "\n",
       "[359392 rows x 9 columns]"
      ]
     },
     "execution_count": 157,
     "metadata": {},
     "output_type": "execute_result"
    }
   ],
   "source": [
    "#Merging data of transaction and cab data based on same column 'Transaction ID'\n",
    "merged = cabdata.merge(transaction, on=['Transaction ID'])\n",
    "merged"
   ]
  },
  {
   "cell_type": "code",
   "execution_count": 158,
   "id": "303dc216",
   "metadata": {},
   "outputs": [
    {
     "data": {
      "text/plain": [
       "189970"
      ]
     },
     "execution_count": 158,
     "metadata": {},
     "output_type": "execute_result"
    }
   ],
   "source": [
    "merged_city_count = merged.groupby('City')['Transaction ID'].count()\n",
    "merged_company_count = merged.groupby('Company')['Transaction ID'].count()\n",
    "merged_company_count[1] - merged_company_count[0]"
   ]
  },
  {
   "cell_type": "markdown",
   "id": "17cd696d",
   "metadata": {},
   "source": [
    "Note 1: Yellow Cab has 189970 more transactions than Pink Cab in this recorded data "
   ]
  },
  {
   "cell_type": "code",
   "execution_count": 159,
   "id": "af7809fa",
   "metadata": {},
   "outputs": [
    {
     "data": {
      "text/plain": [
       "Payment_Mode\n",
       "Card    263991\n",
       "Cash    176107\n",
       "Name: Payment_Mode, dtype: int64"
      ]
     },
     "execution_count": 159,
     "metadata": {},
     "output_type": "execute_result"
    }
   ],
   "source": [
    "cmerge = customer.merge(transaction, on=['Customer ID'])\n",
    "cmerge_pay = cmerge.groupby('Payment_Mode')['Payment_Mode'].count()\n",
    "cmerge_pay"
   ]
  },
  {
   "cell_type": "code",
   "execution_count": 160,
   "id": "9d09455d",
   "metadata": {},
   "outputs": [
    {
     "data": {
      "text/plain": [
       "Company     Payment_Mode\n",
       "Pink Cab    Card             50719\n",
       "            Cash             33992\n",
       "Yellow Cab  Card            164785\n",
       "            Cash            109896\n",
       "Name: Transaction ID, dtype: int64"
      ]
     },
     "execution_count": 160,
     "metadata": {},
     "output_type": "execute_result"
    }
   ],
   "source": [
    "f_merge = merged.merge(customer, on=['Customer ID'])\n",
    "pay_cab = f_merge.groupby(['Company', 'Payment_Mode'])['Transaction ID'].count()\n",
    "pay_cab"
   ]
  },
  {
   "cell_type": "code",
   "execution_count": 161,
   "id": "ec9b0b6f",
   "metadata": {},
   "outputs": [
    {
     "data": {
      "text/plain": [
       "67.0202488219405"
      ]
     },
     "execution_count": 161,
     "metadata": {},
     "output_type": "execute_result"
    }
   ],
   "source": [
    "pay_cab[1]/pay_cab[0] * 100"
   ]
  },
  {
   "cell_type": "code",
   "execution_count": 162,
   "id": "1b4b8827",
   "metadata": {},
   "outputs": [
    {
     "data": {
      "text/plain": [
       "66.69053615316928"
      ]
     },
     "execution_count": 162,
     "metadata": {},
     "output_type": "execute_result"
    }
   ],
   "source": [
    "pay_cab[3]/pay_cab[2] * 100"
   ]
  },
  {
   "cell_type": "markdown",
   "id": "7eca5c70",
   "metadata": {},
   "source": [
    "Note 2: Regardless of company, the ratio of card to cash payers is pretty much the same "
   ]
  },
  {
   "cell_type": "code",
   "execution_count": 163,
   "id": "b78ce285",
   "metadata": {},
   "outputs": [
    {
     "data": {
      "text/plain": [
       "310.800856205215"
      ]
     },
     "execution_count": 163,
     "metadata": {},
     "output_type": "execute_result"
    }
   ],
   "source": [
    "f_merge[f_merge['Company']=='Pink Cab']['Price Charged'].mean()"
   ]
  },
  {
   "cell_type": "code",
   "execution_count": 164,
   "id": "99627368",
   "metadata": {},
   "outputs": [
    {
     "data": {
      "text/plain": [
       "458.1819899811107"
      ]
     },
     "execution_count": 164,
     "metadata": {},
     "output_type": "execute_result"
    }
   ],
   "source": [
    "f_merge[f_merge['Company']=='Yellow Cab']['Price Charged'].mean()"
   ]
  },
  {
   "cell_type": "code",
   "execution_count": 165,
   "id": "23e27a0a",
   "metadata": {},
   "outputs": [
    {
     "data": {
      "text/plain": [
       "22.559916775861296"
      ]
     },
     "execution_count": 165,
     "metadata": {},
     "output_type": "execute_result"
    }
   ],
   "source": [
    "f_merge[f_merge['Company']=='Pink Cab']['KM Travelled'].mean()"
   ]
  },
  {
   "cell_type": "code",
   "execution_count": 166,
   "id": "f6a4475d",
   "metadata": {},
   "outputs": [
    {
     "data": {
      "text/plain": [
       "22.56951689414248"
      ]
     },
     "execution_count": 166,
     "metadata": {},
     "output_type": "execute_result"
    }
   ],
   "source": [
    "f_merge[f_merge['Company']=='Yellow Cab']['KM Travelled'].mean()"
   ]
  },
  {
   "cell_type": "markdown",
   "id": "0944c8a5",
   "metadata": {},
   "source": [
    "Note 3: Despite an average of similar lengths, Yellow Cab is being paid more"
   ]
  },
  {
   "cell_type": "code",
   "execution_count": 176,
   "id": "d3e8d6df",
   "metadata": {},
   "outputs": [],
   "source": [
    "yellow_f = f_merge[f_merge['Company']=='Yellow Cab'][['Company', 'Price Charged', 'KM Travelled']]\n",
    "pink_f = f_merge[f_merge['Company']=='Pink Cab'][['Company', 'Price Charged', 'KM Travelled']]"
   ]
  },
  {
   "cell_type": "code",
   "execution_count": 184,
   "id": "996349ee",
   "metadata": {},
   "outputs": [],
   "source": [
    "ratio_yellow = yellow_f['Price Charged']/yellow_f['KM Travelled']\n",
    "ratio_pink = pink_f['Price Charged']/pink_f['KM Travelled']"
   ]
  },
  {
   "cell_type": "code",
   "execution_count": 189,
   "id": "2b8c95c9",
   "metadata": {},
   "outputs": [
    {
     "data": {
      "text/plain": [
       "1         22.859870\n",
       "2         18.614571\n",
       "4         19.821330\n",
       "5         22.394822\n",
       "8         17.785354\n",
       "            ...    \n",
       "359387    15.677071\n",
       "359388    20.260204\n",
       "359389    15.987895\n",
       "359390    16.503571\n",
       "359391    18.394737\n",
       "Length: 274681, dtype: float64"
      ]
     },
     "execution_count": 189,
     "metadata": {},
     "output_type": "execute_result"
    }
   ],
   "source": [
    "ratio_yellow"
   ]
  },
  {
   "cell_type": "code",
   "execution_count": 190,
   "id": "5ef70a4a",
   "metadata": {},
   "outputs": [
    {
     "data": {
      "text/plain": [
       "0         12.182266\n",
       "3         12.526904\n",
       "6         12.474235\n",
       "7         13.849558\n",
       "11        11.377751\n",
       "            ...    \n",
       "359331    14.052852\n",
       "359332    12.863075\n",
       "359333    17.369771\n",
       "359334    12.841212\n",
       "359335    11.176715\n",
       "Length: 84711, dtype: float64"
      ]
     },
     "execution_count": 190,
     "metadata": {},
     "output_type": "execute_result"
    }
   ],
   "source": [
    "ratio_pink"
   ]
  },
  {
   "cell_type": "code",
   "execution_count": 188,
   "id": "e25c4e58",
   "metadata": {},
   "outputs": [
    {
     "data": {
      "image/png": "[encoded data removed]",
      "text/plain": [
       "<Figure size 640x480 with 1 Axes>"
      ]
     },
     "metadata": {},
     "output_type": "display_data"
    }
   ],
   "source": [
    "plt.plot(ratio_yellow)\n",
    "plt.plot(ratio_pink)\n",
    "\n",
    "plt.show()"
   ]
  },
  {
   "cell_type": "markdown",
   "id": "272f6c19",
   "metadata": {},
   "source": [
    "It is clear that Yellow Cab is charging more per kilometer than Pink Cab. Although from a customer standpoint, Pink Cab would be a better choice, from the business standpoint, and that of the project, there is more evidence to suggest investing in Yellow Cab is more beneficial."
   ]
  },
  {
   "cell_type": "code",
   "execution_count": 193,
   "id": "87f06ddd",
   "metadata": {},
   "outputs": [
    {
     "data": {
      "text/plain": [
       "15045.669816987705"
      ]
     },
     "execution_count": 193,
     "metadata": {},
     "output_type": "execute_result"
    }
   ],
   "source": [
    "f_merge[f_merge['Company']=='Yellow Cab']['Income (USD/Month)'].mean()"
   ]
  },
  {
   "cell_type": "code",
   "execution_count": 194,
   "id": "1789a8c5",
   "metadata": {},
   "outputs": [
    {
     "data": {
      "text/plain": [
       "15059.04713673549"
      ]
     },
     "execution_count": 194,
     "metadata": {},
     "output_type": "execute_result"
    }
   ],
   "source": [
    "f_merge[f_merge['Company']=='Pink Cab']['Income (USD/Month)'].mean()"
   ]
  },
  {
   "cell_type": "markdown",
   "id": "a4ce2738",
   "metadata": {},
   "source": [
    "Both Yellow Cab and Pink Cab users make fairly the same amount of money. This means that income does not exactly have an effect on whether yellow or pink cab is chosen"
   ]
  },
  {
   "cell_type": "code",
   "execution_count": null,
   "id": "3396947f",
   "metadata": {},
   "outputs": [],
   "source": []
  }
 ],
 "metadata": {
  "kernelspec": {
   "display_name": "Python 3 (ipykernel)",
   "language": "python",
   "name": "python3"
  },
  "language_info": {
   "codemirror_mode": {
    "name": "ipython",
    "version": 3
   },
   "file_extension": ".py",
   "mimetype": "text/x-python",
   "name": "python",
   "nbconvert_exporter": "python",
   "pygments_lexer": "ipython3",
   "version": "3.9.13"
  }
 },
 "nbformat": 4,
 "nbformat_minor": 5
}
